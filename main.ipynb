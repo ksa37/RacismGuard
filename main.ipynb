{
 "metadata": {
  "language_info": {
   "codemirror_mode": {
    "name": "ipython",
    "version": 3
   },
   "file_extension": ".py",
   "mimetype": "text/x-python",
   "name": "python",
   "nbconvert_exporter": "python",
   "pygments_lexer": "ipython3",
   "version": "3.7.3-final"
  },
  "orig_nbformat": 2,
  "kernelspec": {
   "name": "Python 3.7.3 64-bit ('base': conda)",
   "display_name": "Python 3.7.3 64-bit ('base': conda)",
   "metadata": {
    "interpreter": {
     "hash": "47f7b07acabd6d5ca784ccc9647bf1cad7594b58438d4b0c82680311112ce01e"
    }
   }
  }
 },
 "nbformat": 4,
 "nbformat_minor": 2,
 "cells": [
  {
   "cell_type": "code",
   "execution_count": 1,
   "metadata": {},
   "outputs": [
    {
     "output_type": "execute_result",
     "data": {
      "text/plain": [
       "                                   created_at                   id  \\\n",
       "0  2020-04-24 08:59:57 짖짜eCN짤철I징쩐짤철 C징횒A짢짧짢철A  1253473718380068864   \n",
       "1  2020-04-24 08:59:56 짖짜eCN짤철I징쩐짤철 C징횒A짢짧짢철A  1253473714664017920   \n",
       "2  2020-04-24 08:59:56 짖짜eCN짤철I징쩐짤철 C징횒A짢짧짢철A  1253473714139738115   \n",
       "3  2020-04-24 08:59:56 짖짜eCN짤철I징쩐짤철 C징횒A짢짧짢철A  1253473712550162433   \n",
       "4  2020-04-24 08:59:54 짖짜eCN짤철I징쩐짤철 C징횒A짢짧짢철A  1253473707009417217   \n",
       "\n",
       "                                               tweet  retweets_count  \n",
       "0  Arundhati Roy says no Corona crisis in India, ...               0  \n",
       "1  I really am waiting for the camera crew to app...               0  \n",
       "2                   @viitorvictor T찼 com corona tbm?               0  \n",
       "3  @2blue1pink @ChrisuSSBMtG @Zorniborni @ssbDuck...               0  \n",
       "4  Lucci was talking dat shit on dat Corona pack ...               0  "
      ],
      "text/html": "<div>\n<style scoped>\n    .dataframe tbody tr th:only-of-type {\n        vertical-align: middle;\n    }\n\n    .dataframe tbody tr th {\n        vertical-align: top;\n    }\n\n    .dataframe thead th {\n        text-align: right;\n    }\n</style>\n<table border=\"1\" class=\"dataframe\">\n  <thead>\n    <tr style=\"text-align: right;\">\n      <th></th>\n      <th>created_at</th>\n      <th>id</th>\n      <th>tweet</th>\n      <th>retweets_count</th>\n    </tr>\n  </thead>\n  <tbody>\n    <tr>\n      <th>0</th>\n      <td>2020-04-24 08:59:57 짖짜eCN짤철I징쩐짤철 C징횒A짢짧짢철A</td>\n      <td>1253473718380068864</td>\n      <td>Arundhati Roy says no Corona crisis in India, ...</td>\n      <td>0</td>\n    </tr>\n    <tr>\n      <th>1</th>\n      <td>2020-04-24 08:59:56 짖짜eCN짤철I징쩐짤철 C징횒A짢짧짢철A</td>\n      <td>1253473714664017920</td>\n      <td>I really am waiting for the camera crew to app...</td>\n      <td>0</td>\n    </tr>\n    <tr>\n      <th>2</th>\n      <td>2020-04-24 08:59:56 짖짜eCN짤철I징쩐짤철 C징횒A짢짧짢철A</td>\n      <td>1253473714139738115</td>\n      <td>@viitorvictor T찼 com corona tbm?</td>\n      <td>0</td>\n    </tr>\n    <tr>\n      <th>3</th>\n      <td>2020-04-24 08:59:56 짖짜eCN짤철I징쩐짤철 C징횒A짢짧짢철A</td>\n      <td>1253473712550162433</td>\n      <td>@2blue1pink @ChrisuSSBMtG @Zorniborni @ssbDuck...</td>\n      <td>0</td>\n    </tr>\n    <tr>\n      <th>4</th>\n      <td>2020-04-24 08:59:54 짖짜eCN짤철I징쩐짤철 C징횒A짢짧짢철A</td>\n      <td>1253473707009417217</td>\n      <td>Lucci was talking dat shit on dat Corona pack ...</td>\n      <td>0</td>\n    </tr>\n  </tbody>\n</table>\n</div>"
     },
     "metadata": {},
     "execution_count": 1
    }
   ],
   "source": [
    "import pandas as pd\n",
    "\n",
    "df = pd.read_json('covid19_sample_tweet.json', lines=True)\n",
    "df[[\"created_at\", \"id\", \"tweet\", \"retweets_count\"]].head()"
   ]
  },
  {
   "cell_type": "code",
   "execution_count": null,
   "metadata": {},
   "outputs": [],
   "source": []
  }
 ]
}